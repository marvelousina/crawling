{
 "cells": [
  {
   "cell_type": "markdown",
   "metadata": {},
   "source": [
    "# Vegan Restaurant Review"
   ]
  },
  {
   "cell_type": "markdown",
   "metadata": {},
   "source": [
    "### installation of package"
   ]
  },
  {
   "cell_type": "code",
   "execution_count": 19,
   "metadata": {},
   "outputs": [],
   "source": [
    "import requests # requests\n",
    "import bs4 as bs # BeautifulSoup"
   ]
  },
  {
   "cell_type": "code",
   "execution_count": 20,
   "metadata": {},
   "outputs": [],
   "source": [
    "import urllib.request as url # urllib"
   ]
  },
  {
   "cell_type": "code",
   "execution_count": 21,
   "metadata": {},
   "outputs": [],
   "source": [
    "# yelp website including 10 vegan restaurants information\n",
    "\n",
    "source = url.urlopen('https://www.yelp.com/search?find_desc=Vegan+Food&find_loc=San+Francisco%2C+CA&ns=1')"
   ]
  },
  {
   "cell_type": "code",
   "execution_count": 22,
   "metadata": {},
   "outputs": [],
   "source": [
    "# Use beautifulsoup\n",
    "\n",
    "page_soup = bs.BeautifulSoup(source, 'html.parser')"
   ]
  },
  {
   "cell_type": "code",
   "execution_count": 27,
   "metadata": {},
   "outputs": [],
   "source": [
    "# Find out the huge container including the information that I want to scrap\n",
    "# For me : restaurant name, star-rating, number of reviews, price\n",
    "\n",
    "mains = page_soup.find_all(\"div\", {\"class\":\"mainAttributes__09f24__26-vh arrange-unit__09f24__3IxLD arrange-unit-fill__09f24__1v_h4 border-color--default__09f24__1eOdn\"})"
   ]
  },
  {
   "cell_type": "code",
   "execution_count": 34,
   "metadata": {},
   "outputs": [
    {
     "name": "stdout",
     "output_type": "stream",
     "text": [
      "Rest_Name:Wildseed\n"
     ]
    }
   ],
   "source": [
    "# First attribute - Rest_Name\n",
    "\n",
    "main = mains[0]\n",
    "\n",
    "name = main.find(\"a\").text\n",
    "print(\"Rest_Name:\" + name)"
   ]
  },
  {
   "cell_type": "code",
   "execution_count": 36,
   "metadata": {},
   "outputs": [
    {
     "name": "stdout",
     "output_type": "stream",
     "text": [
      "Rest_Ratings:4.5 star rating\n"
     ]
    }
   ],
   "source": [
    "# Second attribute - Rest_Ratings\n",
    "\n",
    "ratings = main.find(\"span\", {\"class\" :\"display--inline__09f24__EhyFv border-color--default__09f24__1eOdn\"}).div.get(\"aria-label\")\n",
    "\n",
    "print(\"Rest_Ratings:\" + ratings)"
   ]
  },
  {
   "cell_type": "code",
   "execution_count": 48,
   "metadata": {},
   "outputs": [
    {
     "name": "stdout",
     "output_type": "stream",
     "text": [
      "10\n"
     ]
    }
   ],
   "source": [
    "# Third attribute - Rest_Reviews\n",
    "\n",
    "reviews = main.find(\"span\",{\"class\" : \"reviewCount__09f24__EUXPN css-e81eai\"}).text\n",
    "\n",
    "print(reviews)"
   ]
  },
  {
   "cell_type": "code",
   "execution_count": 55,
   "metadata": {},
   "outputs": [
    {
     "ename": "AttributeError",
     "evalue": "'NoneType' object has no attribute 'text'",
     "output_type": "error",
     "traceback": [
      "\u001b[0;31m---------------------------------------------------------------------------\u001b[0m",
      "\u001b[0;31mAttributeError\u001b[0m                            Traceback (most recent call last)",
      "\u001b[0;32m<ipython-input-55-7b333cf2bad4>\u001b[0m in \u001b[0;36m<module>\u001b[0;34m\u001b[0m\n\u001b[1;32m      1\u001b[0m \u001b[0;31m# Fourth attribute - Rest_Price\u001b[0m\u001b[0;34m\u001b[0m\u001b[0;34m\u001b[0m\u001b[0;34m\u001b[0m\u001b[0m\n\u001b[1;32m      2\u001b[0m \u001b[0;34m\u001b[0m\u001b[0m\n\u001b[0;32m----> 3\u001b[0;31m \u001b[0mprice\u001b[0m \u001b[0;34m=\u001b[0m \u001b[0mmain\u001b[0m\u001b[0;34m.\u001b[0m\u001b[0mfind\u001b[0m\u001b[0;34m(\u001b[0m\u001b[0;34m\"span\"\u001b[0m\u001b[0;34m,\u001b[0m\u001b[0;34m{\u001b[0m\u001b[0;34m\"class\"\u001b[0m \u001b[0;34m:\u001b[0m \u001b[0;34m\"priceRange__09f24__2O6le css-xtpg8e\"\u001b[0m\u001b[0;34m}\u001b[0m\u001b[0;34m)\u001b[0m\u001b[0;34m.\u001b[0m\u001b[0mtext\u001b[0m\u001b[0;34m\u001b[0m\u001b[0;34m\u001b[0m\u001b[0m\n\u001b[0m\u001b[1;32m      4\u001b[0m \u001b[0;34m\u001b[0m\u001b[0m\n\u001b[1;32m      5\u001b[0m \u001b[0mprint\u001b[0m\u001b[0;34m(\u001b[0m\u001b[0mprice\u001b[0m\u001b[0;34m)\u001b[0m\u001b[0;34m\u001b[0m\u001b[0;34m\u001b[0m\u001b[0m\n",
      "\u001b[0;31mAttributeError\u001b[0m: 'NoneType' object has no attribute 'text'"
     ]
    }
   ],
   "source": [
    "# Fourth attribute - Rest_Price\n",
    "\n",
    "price = main.find(\"span\",{\"class\" : \"priceRange__09f24__2O6le css-xtpg8e\"}).text\n",
    "\n",
    "print(price)"
   ]
  },
  {
   "cell_type": "code",
   "execution_count": 63,
   "metadata": {},
   "outputs": [
    {
     "data": {
      "text/plain": [
       "49"
      ]
     },
     "execution_count": 63,
     "metadata": {},
     "output_type": "execute_result"
    }
   ],
   "source": [
    "# save in file as csv\n",
    "\n",
    "filename = \"yelp_vegan.csv\"\n",
    "\n",
    "f = open(filename, 'w')\n",
    "\n",
    "header = \"Rest_Name, Rest_Ratings, Rest_Reviews, Rest_Price\"\n",
    "\n",
    "f.write(header)"
   ]
  },
  {
   "cell_type": "code",
   "execution_count": 64,
   "metadata": {},
   "outputs": [
    {
     "name": "stdout",
     "output_type": "stream",
     "text": [
      "Rest_Name:Wildseed\n",
      "None\n",
      "Rest_Reviews:456\n",
      "Rest_Price:$$\n",
      "Rest_Name:Saucy Bandits\n",
      "None\n",
      "Rest_Reviews:21\n",
      "None\n",
      "Rest_Name:Above Ground\n",
      "None\n",
      "Rest_Reviews:42\n",
      "None\n",
      "Rest_Name:VeganBurg\n",
      "None\n",
      "Rest_Reviews:867\n",
      "Rest_Price:$$\n",
      "Rest_Name:Shizen Vegan Sushi Bar & Izakaya\n",
      "None\n",
      "Rest_Reviews:1683\n",
      "Rest_Price:$$\n",
      "Rest_Name:Vegan Picnic\n",
      "None\n",
      "Rest_Reviews:73\n",
      "Rest_Price:$$\n",
      "Rest_Name:Next Level Clucker\n",
      "None\n",
      "Rest_Reviews:3\n",
      "None\n",
      "Rest_Name:Golden Era Vegan Restaurant\n",
      "None\n",
      "Rest_Reviews:669\n",
      "Rest_Price:$$\n",
      "Rest_Name:Loving Hut\n",
      "None\n",
      "Rest_Reviews:443\n",
      "Rest_Price:$$\n",
      "Rest_Name:Souley Vegan\n",
      "None\n",
      "Rest_Reviews:10\n",
      "None\n"
     ]
    }
   ],
   "source": [
    "# Set loop over 1 attribute\n",
    "\n",
    "for main in mains:\n",
    "    # first\n",
    "    try:\n",
    "        name = main.find(\"a\").text\n",
    "        print(\"Rest_Name:\" + name)\n",
    "    except:\n",
    "        print(None)\n",
    "    # second    \n",
    "    try :\n",
    "        ratings = main.find(\"span\", {\"class\" :\"display--inline__09f24__EhyFv border-color--default__09f24__1eOdn\"}).div.get(\"aria-label\")\n",
    "        print(\"Rest_Ratings:\" + ratings)\n",
    "    except:\n",
    "        print(None)\n",
    "    # third\n",
    "    try:\n",
    "        reviews = main.find(\"span\",{\"class\":\"reviewCount__09f24__EUXPN css-e81eai\"}).text\n",
    "        print(\"Rest_Reviews:\" + reviews)\n",
    "    except:\n",
    "        print(None)\n",
    "    # fourth\n",
    "    try:\n",
    "        price = main.find(\"span\",{\"class\" : \"priceRange__09f24__2O6le css-xtpg8e\"}).text\n",
    "        print(\"Rest_Price:\" + price)\n",
    "    except:\n",
    "        print(None)\n",
    "        \n",
    "    f.write(\"\\n\" + name + \",\" + ratings + \",\" + reviews + \",\" + price)\n",
    "    \n",
    "f.close()"
   ]
  },
  {
   "cell_type": "code",
   "execution_count": 65,
   "metadata": {},
   "outputs": [],
   "source": [
    "import pandas as pd"
   ]
  },
  {
   "cell_type": "code",
   "execution_count": 66,
   "metadata": {},
   "outputs": [
    {
     "data": {
      "text/html": [
       "<div>\n",
       "<style scoped>\n",
       "    .dataframe tbody tr th:only-of-type {\n",
       "        vertical-align: middle;\n",
       "    }\n",
       "\n",
       "    .dataframe tbody tr th {\n",
       "        vertical-align: top;\n",
       "    }\n",
       "\n",
       "    .dataframe thead th {\n",
       "        text-align: right;\n",
       "    }\n",
       "</style>\n",
       "<table border=\"1\" class=\"dataframe\">\n",
       "  <thead>\n",
       "    <tr style=\"text-align: right;\">\n",
       "      <th></th>\n",
       "      <th>Rest_Name</th>\n",
       "      <th>Rest_Ratings</th>\n",
       "      <th>Rest_Reviews</th>\n",
       "      <th>Rest_Price</th>\n",
       "    </tr>\n",
       "  </thead>\n",
       "  <tbody>\n",
       "    <tr>\n",
       "      <th>0</th>\n",
       "      <td>Wildseed</td>\n",
       "      <td>4.5 star rating</td>\n",
       "      <td>456</td>\n",
       "      <td>$$</td>\n",
       "    </tr>\n",
       "    <tr>\n",
       "      <th>1</th>\n",
       "      <td>Saucy Bandits</td>\n",
       "      <td>4.5 star rating</td>\n",
       "      <td>21</td>\n",
       "      <td>$$</td>\n",
       "    </tr>\n",
       "    <tr>\n",
       "      <th>2</th>\n",
       "      <td>Above Ground</td>\n",
       "      <td>4.5 star rating</td>\n",
       "      <td>42</td>\n",
       "      <td>$$</td>\n",
       "    </tr>\n",
       "    <tr>\n",
       "      <th>3</th>\n",
       "      <td>VeganBurg</td>\n",
       "      <td>4.5 star rating</td>\n",
       "      <td>867</td>\n",
       "      <td>$$</td>\n",
       "    </tr>\n",
       "    <tr>\n",
       "      <th>4</th>\n",
       "      <td>Shizen Vegan Sushi Bar &amp; Izakaya</td>\n",
       "      <td>4.5 star rating</td>\n",
       "      <td>1683</td>\n",
       "      <td>$$</td>\n",
       "    </tr>\n",
       "    <tr>\n",
       "      <th>5</th>\n",
       "      <td>Vegan Picnic</td>\n",
       "      <td>4.5 star rating</td>\n",
       "      <td>73</td>\n",
       "      <td>$$</td>\n",
       "    </tr>\n",
       "    <tr>\n",
       "      <th>6</th>\n",
       "      <td>Next Level Clucker</td>\n",
       "      <td>4.5 star rating</td>\n",
       "      <td>3</td>\n",
       "      <td>$$</td>\n",
       "    </tr>\n",
       "    <tr>\n",
       "      <th>7</th>\n",
       "      <td>Golden Era Vegan Restaurant</td>\n",
       "      <td>4.5 star rating</td>\n",
       "      <td>669</td>\n",
       "      <td>$$</td>\n",
       "    </tr>\n",
       "    <tr>\n",
       "      <th>8</th>\n",
       "      <td>Loving Hut</td>\n",
       "      <td>4.5 star rating</td>\n",
       "      <td>443</td>\n",
       "      <td>$$</td>\n",
       "    </tr>\n",
       "    <tr>\n",
       "      <th>9</th>\n",
       "      <td>Souley Vegan</td>\n",
       "      <td>4.5 star rating</td>\n",
       "      <td>10</td>\n",
       "      <td>$$</td>\n",
       "    </tr>\n",
       "  </tbody>\n",
       "</table>\n",
       "</div>"
      ],
      "text/plain": [
       "                          Rest_Name     Rest_Ratings   Rest_Reviews  \\\n",
       "0                          Wildseed  4.5 star rating            456   \n",
       "1                     Saucy Bandits  4.5 star rating             21   \n",
       "2                      Above Ground  4.5 star rating             42   \n",
       "3                         VeganBurg  4.5 star rating            867   \n",
       "4  Shizen Vegan Sushi Bar & Izakaya  4.5 star rating           1683   \n",
       "5                      Vegan Picnic  4.5 star rating             73   \n",
       "6                Next Level Clucker  4.5 star rating              3   \n",
       "7       Golden Era Vegan Restaurant  4.5 star rating            669   \n",
       "8                        Loving Hut  4.5 star rating            443   \n",
       "9                      Souley Vegan  4.5 star rating             10   \n",
       "\n",
       "   Rest_Price  \n",
       "0          $$  \n",
       "1          $$  \n",
       "2          $$  \n",
       "3          $$  \n",
       "4          $$  \n",
       "5          $$  \n",
       "6          $$  \n",
       "7          $$  \n",
       "8          $$  \n",
       "9          $$  "
      ]
     },
     "execution_count": 66,
     "metadata": {},
     "output_type": "execute_result"
    }
   ],
   "source": [
    "pd.read_csv(\"yelp_vegan.csv\")"
   ]
  }
 ],
 "metadata": {
  "kernelspec": {
   "display_name": "Python 3",
   "language": "python",
   "name": "python3"
  },
  "language_info": {
   "codemirror_mode": {
    "name": "ipython",
    "version": 3
   },
   "file_extension": ".py",
   "mimetype": "text/x-python",
   "name": "python",
   "nbconvert_exporter": "python",
   "pygments_lexer": "ipython3",
   "version": "3.8.3"
  }
 },
 "nbformat": 4,
 "nbformat_minor": 4
}
